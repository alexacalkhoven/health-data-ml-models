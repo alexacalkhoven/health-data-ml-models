{
 "cells": [
  {
   "cell_type": "code",
   "execution_count": 19,
   "id": "brief-evening",
   "metadata": {},
   "outputs": [],
   "source": [
    "import pandas as pd\n",
    "\n",
    "# change the ouput class to NUMERIC\n",
    "filename = \"breast_cancer_train.csv\"\n",
    "df = pd.read_csv(\"../data/\" + filename)\n",
    "df['diagnosis'] = df['diagnosis'].map({'M': 1, 'B': 0}) # change W/B classifiers to numeric\n",
    "df.to_csv('../data/' + filename, index=False)  "
   ]
  },
  {
   "cell_type": "code",
   "execution_count": null,
   "id": "major-cricket",
   "metadata": {},
   "outputs": [],
   "source": []
  }
 ],
 "metadata": {
  "kernelspec": {
   "display_name": "Python 3",
   "language": "python",
   "name": "python3"
  },
  "language_info": {
   "codemirror_mode": {
    "name": "ipython",
    "version": 3
   },
   "file_extension": ".py",
   "mimetype": "text/x-python",
   "name": "python",
   "nbconvert_exporter": "python",
   "pygments_lexer": "ipython3",
   "version": "3.8.2"
  }
 },
 "nbformat": 4,
 "nbformat_minor": 5
}
