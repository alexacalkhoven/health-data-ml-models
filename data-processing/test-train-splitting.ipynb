{
 "cells": [
  {
   "cell_type": "code",
   "execution_count": 2,
   "id": "returning-trade",
   "metadata": {},
   "outputs": [],
   "source": [
    "from numpy.random import RandomState\n",
    "import pandas as pd\n",
    "\n",
    "# USE 80/20 TRAIN/TEST SPLIT\n",
    "file = 'us_births'\n",
    "df = pd.read_csv('../original-data/' + file + '.csv')\n",
    "rng = RandomState()\n",
    "\n",
    "train = df.sample(frac=0.8, random_state=rng)\n",
    "test = df.loc[~df.index.isin(train.index)]\n",
    "\n",
    "train.to_csv('../data/' + file + '_train.csv', index=False)  \n",
    "test.to_csv('../data/' + file + '_test.csv', index=False)  "
   ]
  }
 ],
 "metadata": {
  "kernelspec": {
   "display_name": "Python 3",
   "language": "python",
   "name": "python3"
  },
  "language_info": {
   "codemirror_mode": {
    "name": "ipython",
    "version": 3
   },
   "file_extension": ".py",
   "mimetype": "text/x-python",
   "name": "python",
   "nbconvert_exporter": "python",
   "pygments_lexer": "ipython3",
   "version": "3.8.2"
  }
 },
 "nbformat": 4,
 "nbformat_minor": 5
}
