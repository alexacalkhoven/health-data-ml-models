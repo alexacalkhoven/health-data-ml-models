{
 "cells": [
  {
   "cell_type": "code",
   "execution_count": 16,
   "id": "brief-evening",
   "metadata": {},
   "outputs": [
    {
     "data": {
      "text/plain": [
       "id                         842517.000000\n",
       "diagnosis                       1.000000\n",
       "radius_mean                    20.570000\n",
       "texture_mean                   17.770000\n",
       "perimeter_mean                132.900000\n",
       "area_mean                    1326.000000\n",
       "smoothness_mean                 0.084740\n",
       "compactness_mean                0.078640\n",
       "concavity_mean                  0.086900\n",
       "concave points_mean             0.070170\n",
       "symmetry_mean                   0.181200\n",
       "fractal_dimension_mean          0.056670\n",
       "radius_se                       0.543500\n",
       "texture_se                      0.733900\n",
       "perimeter_se                    3.398000\n",
       "area_se                        74.080000\n",
       "smoothness_se                   0.005225\n",
       "compactness_se                  0.013080\n",
       "concavity_se                    0.018600\n",
       "concave points_se               0.013400\n",
       "symmetry_se                     0.013890\n",
       "fractal_dimension_se            0.003532\n",
       "radius_worst                   24.990000\n",
       "texture_worst                  23.410000\n",
       "perimeter_worst               158.800000\n",
       "area_worst                   1956.000000\n",
       "smoothness_worst                0.123800\n",
       "compactness_worst               0.186600\n",
       "concavity_worst                 0.241600\n",
       "concave points_worst            0.186000\n",
       "symmetry_worst                  0.275000\n",
       "fractal_dimension_worst         0.089020\n",
       "Name: 0, dtype: float64"
      ]
     },
     "execution_count": 16,
     "metadata": {},
     "output_type": "execute_result"
    }
   ],
   "source": [
    "import pandas as pd\n",
    "\n",
    "# change the ouput class to NUMERIC\n",
    "filename = \"breast_cancer_test.csv\"\n",
    "df = pd.read_csv(\"../data/\" + filename)\n",
    "df['diagnosis'] = df['diagnosis'].map({'M': 1, 'B': 0}) # change W/B classifiers to numeric\n",
    "train.to_csv('../data/' + filename, index=False)  "
   ]
  },
  {
   "cell_type": "code",
   "execution_count": null,
   "id": "sapphire-library",
   "metadata": {},
   "outputs": [],
   "source": []
  }
 ],
 "metadata": {
  "kernelspec": {
   "display_name": "Python 3",
   "language": "python",
   "name": "python3"
  },
  "language_info": {
   "codemirror_mode": {
    "name": "ipython",
    "version": 3
   },
   "file_extension": ".py",
   "mimetype": "text/x-python",
   "name": "python",
   "nbconvert_exporter": "python",
   "pygments_lexer": "ipython3",
   "version": "3.8.2"
  }
 },
 "nbformat": 4,
 "nbformat_minor": 5
}
