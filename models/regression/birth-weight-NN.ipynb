{
 "cells": [
  {
   "cell_type": "code",
   "execution_count": 1,
   "id": "continued-bumper",
   "metadata": {},
   "outputs": [
    {
     "name": "stderr",
     "output_type": "stream",
     "text": [
      "Using TensorFlow backend.\n"
     ]
    },
    {
     "name": "stdout",
     "output_type": "stream",
     "text": [
      "(3041227, 16)\n",
      "(760307, 16)\n"
     ]
    }
   ],
   "source": [
    "# NN: https://machinelearningmastery.com/regression-tutorial-keras-deep-learning-library-python/\n",
    "# https://towardsdatascience.com/building-our-first-neural-network-in-keras-bdc8abbc17f5\n",
    "\n",
    "# we are predicting BIRTH WEIGHT (DBWT)\n",
    "\n",
    "# Setup and imports\n",
    "\n",
    "import pandas as pd\n",
    "from keras.models import Sequential\n",
    "from keras.layers import Dense\n",
    "from keras.wrappers.scikit_learn import KerasRegressor\n",
    "from sklearn.model_selection import cross_val_score\n",
    "from sklearn.model_selection import KFold\n",
    "from sklearn.preprocessing import StandardScaler\n",
    "from sklearn.pipeline import Pipeline\n",
    "\n",
    "# CROP DOWN THE DATA FOR TESTING...\n",
    "from numpy.random import RandomState\n",
    "rng = RandomState()\n",
    "\n",
    "train = pd.read_csv(\"../../data/us_births_train.csv\").sample(frac=1, random_state=rng)\n",
    "print(train.shape)\n",
    "test = pd.read_csv(\"../../data/us_births_test.csv\").sample(frac=1, random_state=rng)\n",
    "print(test.shape)\n",
    "#train.head()\n",
    "#test.head()"
   ]
  },
  {
   "cell_type": "code",
   "execution_count": 2,
   "id": "annual-chorus",
   "metadata": {},
   "outputs": [],
   "source": [
    "# Seperate test/train data into X and y (input and output)\n",
    "X_train = train.drop('DBWT', axis=1) \n",
    "y_train = train['DBWT']\n",
    "X_test = test.drop('DBWT', axis=1)\n",
    "y_test = test['DBWT']\n",
    "\n",
    "#Normalizing the data\n",
    "from sklearn.preprocessing import StandardScaler\n",
    "sc = StandardScaler()\n",
    "X_train = sc.fit_transform(X_train)\n",
    "X_test = sc.fit_transform(X_test)"
   ]
  },
  {
   "cell_type": "code",
   "execution_count": 3,
   "id": "israeli-reunion",
   "metadata": {},
   "outputs": [],
   "source": [
    "# define base model\n",
    "def baseline_model():\n",
    "    # create model\n",
    "    model = Sequential()\n",
    "    model.add(Dense(10, input_dim=15, kernel_initializer='normal', activation='relu'))\n",
    "    model.add(Dense(1, kernel_initializer='normal'))\n",
    "    # Compile model\n",
    "    model.compile(loss='mean_squared_error', optimizer='adam', metrics=['MSE'])\n",
    "    return model"
   ]
  },
  {
   "cell_type": "code",
   "execution_count": 4,
   "id": "figured-diana",
   "metadata": {},
   "outputs": [],
   "source": [
    "# define a DEEPER model\n",
    "def larger_model():\n",
    "    # create model\n",
    "    model = Sequential()\n",
    "    model.add(Dense(10, input_dim=15, kernel_initializer='normal', activation='relu'))\n",
    "    model.add(Dense(6, kernel_initializer='normal', activation='relu'))\n",
    "    model.add(Dense(1, kernel_initializer='normal'))\n",
    "    # Compile model\n",
    "    model.compile(loss='mean_squared_error', optimizer='adam', metrics=['MSE'])\n",
    "    return model"
   ]
  },
  {
   "cell_type": "code",
   "execution_count": 5,
   "id": "orange-commons",
   "metadata": {},
   "outputs": [],
   "source": [
    "# define a WIDER model\n",
    "def wider_model():\n",
    "    # create model\n",
    "    model = Sequential()\n",
    "    model.add(Dense(20, input_dim=15, kernel_initializer='normal', activation='relu'))\n",
    "    model.add(Dense(1, kernel_initializer='normal'))\n",
    "    # Compile model\n",
    "    model.compile(loss='mean_squared_error', optimizer='adam', metrics=['MSE'])\n",
    "    return model"
   ]
  },
  {
   "cell_type": "code",
   "execution_count": 6,
   "id": "latter-glossary",
   "metadata": {},
   "outputs": [
    {
     "name": "stdout",
     "output_type": "stream",
     "text": [
      "Epoch 1/10\n",
      "3041227/3041227 [==============================] - 445s 146us/step - loss: 400937.4919 - MSE: 400933.6250\n",
      "Epoch 2/10\n",
      "3041227/3041227 [==============================] - 402s 132us/step - loss: 367945.6777 - MSE: 367943.6250\n",
      "Epoch 3/10\n",
      "3041227/3041227 [==============================] - 370s 122us/step - loss: 367831.7256 - MSE: 367829.1562\n",
      "Epoch 4/10\n",
      "3041227/3041227 [==============================] - 371s 122us/step - loss: 367753.5520 - MSE: 367749.6875\n",
      "Epoch 5/10\n",
      "3041227/3041227 [==============================] - 374s 123us/step - loss: 367655.8568 - MSE: 367657.8438\n",
      "Epoch 6/10\n",
      "3041227/3041227 [==============================] - 375s 123us/step - loss: 353688.5731 - MSE: 353685.6250\n",
      "Epoch 7/10\n",
      "3041227/3041227 [==============================] - 456s 150us/step - loss: 347392.1503 - MSE: 347393.0625\n",
      "Epoch 8/10\n",
      "3041227/3041227 [==============================] - 442s 145us/step - loss: 347237.0565 - MSE: 347242.6250\n",
      "Epoch 9/10\n",
      "3041227/3041227 [==============================] - 438s 144us/step - loss: 347169.4348 - MSE: 347170.4375\n",
      "Epoch 10/10\n",
      "3041227/3041227 [==============================] - 436s 143us/step - loss: 347051.7159 - MSE: 347049.5625\n"
     ]
    }
   ],
   "source": [
    "# training the model\n",
    "model = larger_model()\n",
    "neural_net = model.fit(X_train, y_train, epochs=10, batch_size=5, verbose=1)"
   ]
  },
  {
   "cell_type": "code",
   "execution_count": 7,
   "id": "closing-specific",
   "metadata": {},
   "outputs": [],
   "source": [
    "# predict\n",
    "y_pred = model.predict(X_test)"
   ]
  },
  {
   "cell_type": "code",
   "execution_count": 8,
   "id": "alternative-astronomy",
   "metadata": {},
   "outputs": [
    {
     "name": "stdout",
     "output_type": "stream",
     "text": [
      "Mean Absolute Error: 419.99392362441927\n",
      "Mean Squared Error: 346313.40699932026\n",
      "Root Mean Squared Error: 588.4839904358658\n"
     ]
    },
    {
     "data": {
      "image/png": "[encoded data removed]",
      "text/plain": [
       "<Figure size 432x288 with 1 Axes>"
      ]
     },
     "metadata": {
      "needs_background": "light"
     },
     "output_type": "display_data"
    }
   ],
   "source": [
    "# get some metrics\n",
    "from sklearn import metrics\n",
    "import numpy as np\n",
    "import matplotlib.pyplot as plt\n",
    "%matplotlib inline\n",
    "\n",
    "print('Mean Absolute Error:', metrics.mean_absolute_error(y_test, y_pred))\n",
    "print('Mean Squared Error:', metrics.mean_squared_error(y_test, y_pred))\n",
    "print('Root Mean Squared Error:', np.sqrt(metrics.mean_squared_error(y_test, y_pred)))\n",
    "\n",
    "# plot predictions vs expected\n",
    "fig, ax = plt.subplots()\n",
    "ax.scatter(y_test, y_pred)\n",
    "ax.plot([y_test.min(), y_test.max()], [y_test.min(), y_test.max()], 'k--', lw=4)\n",
    "ax.set_xlabel('Measured')\n",
    "ax.set_ylabel('Predicted')\n",
    "plt.show()"
   ]
  },
  {
   "cell_type": "code",
   "execution_count": null,
   "id": "practical-knowing",
   "metadata": {},
   "outputs": [],
   "source": []
  }
 ],
 "metadata": {
  "kernelspec": {
   "display_name": "Python 3",
   "language": "python",
   "name": "python3"
  },
  "language_info": {
   "codemirror_mode": {
    "name": "ipython",
    "version": 3
   },
   "file_extension": ".py",
   "mimetype": "text/x-python",
   "name": "python",
   "nbconvert_exporter": "python",
   "pygments_lexer": "ipython3",
   "version": "3.8.2"
  }
 },
 "nbformat": 4,
 "nbformat_minor": 5
}
