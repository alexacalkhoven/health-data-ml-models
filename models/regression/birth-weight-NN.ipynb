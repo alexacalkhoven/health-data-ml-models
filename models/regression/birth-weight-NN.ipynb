{
 "cells": [
  {
   "cell_type": "code",
   "execution_count": 1,
   "id": "continued-bumper",
   "metadata": {},
   "outputs": [
    {
     "name": "stderr",
     "output_type": "stream",
     "text": [
      "Using TensorFlow backend.\n"
     ]
    },
    {
     "name": "stdout",
     "output_type": "stream",
     "text": [
      "(3041227, 16)\n",
      "(760307, 16)\n"
     ]
    }
   ],
   "source": [
    "# NN: https://machinelearningmastery.com/regression-tutorial-keras-deep-learning-library-python/\n",
    "# https://towardsdatascience.com/building-our-first-neural-network-in-keras-bdc8abbc17f5\n",
    "\n",
    "# we are predicting BIRTH WEIGHT (DBWT)\n",
    "\n",
    "# Setup and imports\n",
    "\n",
    "import pandas as pd\n",
    "from keras.models import Sequential\n",
    "from keras.layers import Dense\n",
    "from keras.wrappers.scikit_learn import KerasRegressor\n",
    "from sklearn.model_selection import cross_val_score\n",
    "from sklearn.model_selection import KFold\n",
    "from sklearn.preprocessing import StandardScaler\n",
    "from sklearn.pipeline import Pipeline\n",
    "\n",
    "# CROP DOWN THE DATA FOR TESTING...\n",
    "from numpy.random import RandomState\n",
    "rng = RandomState()\n",
    "\n",
    "train = pd.read_csv(\"../../data/us_births_train.csv\").sample(frac=1, random_state=rng)\n",
    "print(train.shape)\n",
    "test = pd.read_csv(\"../../data/us_births_test.csv\").sample(frac=1, random_state=rng)\n",
    "print(test.shape)\n",
    "#train.head()\n",
    "#test.head()"
   ]
  },
  {
   "cell_type": "code",
   "execution_count": 2,
   "id": "annual-chorus",
   "metadata": {},
   "outputs": [],
   "source": [
    "# Seperate test/train data into X and y (input and output)\n",
    "X_train = train.drop('DBWT', axis=1) \n",
    "y_train = train['DBWT']\n",
    "X_test = test.drop('DBWT', axis=1)\n",
    "y_test = test['DBWT']\n",
    "\n",
    "#Normalizing the data\n",
    "from sklearn.preprocessing import StandardScaler\n",
    "sc = StandardScaler()\n",
    "X_train = sc.fit_transform(X_train)\n",
    "X_test = sc.fit_transform(X_test)"
   ]
  },
  {
   "cell_type": "code",
   "execution_count": 3,
   "id": "israeli-reunion",
   "metadata": {},
   "outputs": [],
   "source": [
    "# define base model\n",
    "def baseline_model():\n",
    "    # create model\n",
    "    model = Sequential()\n",
    "    model.add(Dense(10, input_dim=15, kernel_initializer='normal', activation='relu'))\n",
    "    model.add(Dense(1, kernel_initializer='normal'))\n",
    "    # Compile model\n",
    "    model.compile(loss='mean_squared_error', optimizer='adam', metrics=['MSE'])\n",
    "    return model"
   ]
  },
  {
   "cell_type": "code",
   "execution_count": 4,
   "id": "figured-diana",
   "metadata": {},
   "outputs": [],
   "source": [
    "# define a DEEPER model\n",
    "def larger_model():\n",
    "    # create model\n",
    "    model = Sequential()\n",
    "    model.add(Dense(10, input_dim=15, kernel_initializer='normal', activation='relu'))\n",
    "    model.add(Dense(6, kernel_initializer='normal', activation='relu'))\n",
    "    model.add(Dense(1, kernel_initializer='normal'))\n",
    "    # Compile model\n",
    "    model.compile(loss='mean_squared_error', optimizer='adam', metrics=['MSE'])\n",
    "    return model"
   ]
  },
  {
   "cell_type": "code",
   "execution_count": 5,
   "id": "orange-commons",
   "metadata": {},
   "outputs": [],
   "source": [
    "# define a WIDER model\n",
    "def wider_model():\n",
    "    # create model\n",
    "    model = Sequential()\n",
    "    model.add(Dense(20, input_dim=15, kernel_initializer='normal', activation='relu'))\n",
    "    model.add(Dense(1, kernel_initializer='normal'))\n",
    "    # Compile model\n",
    "    model.compile(loss='mean_squared_error', optimizer='adam', metrics=['MSE'])\n",
    "    return model"
   ]
  },
  {
   "cell_type": "code",
   "execution_count": 6,
   "id": "narrow-plumbing",
   "metadata": {},
   "outputs": [],
   "source": [
    "# define a WIDER, DEEPER model\n",
    "def larger_wider_model():\n",
    "    # create model\n",
    "    model = Sequential()\n",
    "    model.add(Dense(10, input_dim=15, kernel_initializer='normal', activation='relu'))\n",
    "    model.add(Dense(20, kernel_initializer='normal', activation='relu'))\n",
    "    model.add(Dense(20, kernel_initializer='normal', activation='relu'))\n",
    "    model.add(Dense(1, kernel_initializer='normal'))\n",
    "    # Compile model\n",
    "    model.compile(loss='mean_squared_error', optimizer='adam', metrics=['MSE'])\n",
    "    return model"
   ]
  },
  {
   "cell_type": "code",
   "execution_count": 7,
   "id": "latter-glossary",
   "metadata": {},
   "outputs": [
    {
     "name": "stdout",
     "output_type": "stream",
     "text": [
      "Epoch 1/10\n",
      "3041227/3041227 [==============================] - 499s 164us/step - loss: 380617.2036 - MSE: 380621.3125\n",
      "Epoch 2/10\n",
      "3041227/3041227 [==============================] - 510s 168us/step - loss: 363223.6322 - MSE: 363222.4062s - loss: 363223.7799 - MSE: 363222.531\n",
      "Epoch 3/10\n",
      "3041227/3041227 [==============================] - 443s 146us/step - loss: 344243.0697 - MSE: 344242.1875\n",
      "Epoch 4/10\n",
      "3041227/3041227 [==============================] - 536s 176us/step - loss: 343356.2694 - MSE: 343356.0625\n",
      "Epoch 5/10\n",
      "3041227/3041227 [==============================] - 542s 178us/step - loss: 341954.4233 - MSE: 341958.9062s - loss: 341977.1551 - MSE: 341981. - ETA: 1s - loss: 34197\n",
      "Epoch 6/10\n",
      "3041227/3041227 [==============================] - 619s 203us/step - loss: 340778.4038 - MSE: 340784.2500\n",
      "Epoch 7/10\n",
      "3041227/3041227 [==============================] - 626s 206us/step - loss: 340092.5405 - MSE: 340091.3750s - loss: 340083.4120 - MSE: 340082.\n",
      "Epoch 8/10\n",
      "3041227/3041227 [==============================] - 540s 177us/step - loss: 339357.4890 - MSE: 339356.8750s - loss: 339387.0830 - \n",
      "Epoch 9/10\n",
      "3041227/3041227 [==============================] - 595s 196us/step - loss: 338795.5289 - MSE: 338793.8750s - loss: 338798.0\n",
      "Epoch 10/10\n",
      "3041227/3041227 [==============================] - 799s 263us/step - loss: 338587.7835 - MSE: 338590.0000\n"
     ]
    }
   ],
   "source": [
    "# training the model\n",
    "model = larger_wider_model()\n",
    "neural_net = model.fit(X_train, y_train, epochs=10, batch_size=5, verbose=1)"
   ]
  },
  {
   "cell_type": "code",
   "execution_count": 8,
   "id": "closing-specific",
   "metadata": {},
   "outputs": [],
   "source": [
    "# predict\n",
    "y_pred = model.predict(X_test)"
   ]
  },
  {
   "cell_type": "code",
   "execution_count": 9,
   "id": "alternative-astronomy",
   "metadata": {},
   "outputs": [
    {
     "name": "stdout",
     "output_type": "stream",
     "text": [
      "Mean Absolute Error: 413.71768199655133\n",
      "Mean Squared Error: 337787.3223172165\n",
      "Root Mean Squared Error: 581.1947370006171\n",
      "R Squared: 0.1201153611437823\n"
     ]
    },
    {
     "data": {
      "image/png": "[encoded data removed]",
      "text/plain": [
       "<Figure size 432x288 with 1 Axes>"
      ]
     },
     "metadata": {
      "needs_background": "light"
     },
     "output_type": "display_data"
    }
   ],
   "source": [
    "# get some metrics\n",
    "from sklearn import metrics\n",
    "import numpy as np\n",
    "import matplotlib.pyplot as plt\n",
    "%matplotlib inline\n",
    "\n",
    "print('Mean Absolute Error:', metrics.mean_absolute_error(y_test, y_pred))\n",
    "print('Mean Squared Error:', metrics.mean_squared_error(y_test, y_pred))\n",
    "print('Root Mean Squared Error:', np.sqrt(metrics.mean_squared_error(y_test, y_pred)))\n",
    "print('R Squared:', metrics.r2_score(y_test, y_pred))\n",
    "\n",
    "# plot predictions vs expected\n",
    "fig, ax = plt.subplots()\n",
    "ax.scatter(y_test, y_pred)\n",
    "ax.plot([y_test.min(), y_test.max()], [y_test.min(), y_test.max()], 'k--', lw=4)\n",
    "ax.set_xlabel('Measured')\n",
    "ax.set_ylabel('Predicted')\n",
    "plt.show()"
   ]
  }
 ],
 "metadata": {
  "kernelspec": {
   "display_name": "Python 3",
   "language": "python",
   "name": "python3"
  },
  "language_info": {
   "codemirror_mode": {
    "name": "ipython",
    "version": 3
   },
   "file_extension": ".py",
   "mimetype": "text/x-python",
   "name": "python",
   "nbconvert_exporter": "python",
   "pygments_lexer": "ipython3",
   "version": "3.8.2"
  }
 },
 "nbformat": 4,
 "nbformat_minor": 5
}
