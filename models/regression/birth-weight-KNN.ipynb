{
 "cells": [
  {
   "cell_type": "code",
   "execution_count": 1,
   "id": "continued-bumper",
   "metadata": {},
   "outputs": [
    {
     "name": "stdout",
     "output_type": "stream",
     "text": [
      "(3041227, 16)\n",
      "(760307, 16)\n"
     ]
    }
   ],
   "source": [
    "# linear: https://stackabuse.com/linear-regression-in-python-with-scikit-learn/\n",
    "# KNN: https://scikit-learn.org/stable/modules/generated/sklearn.neighbors.KNeighborsRegressor.html\n",
    "# MLP: https://scikit-learn.org/stable/modules/generated/sklearn.neural_network.MLPRegressor.html\n",
    "\n",
    "# we are predicting BIRTH WEIGHT (DBWT)\n",
    "\n",
    "# Setup and imports\n",
    "import pandas as pd\n",
    "import numpy as np\n",
    "import matplotlib.pyplot as plt\n",
    "%matplotlib inline\n",
    "\n",
    "# CROP DOWN THE DATA FOR TESTING...\n",
    "from numpy.random import RandomState\n",
    "rng = RandomState()\n",
    "\n",
    "train = pd.read_csv(\"../../data/us_births_train.csv\").sample(frac=1, random_state=rng)\n",
    "print(train.shape)\n",
    "test = pd.read_csv(\"../../data/us_births_test.csv\").sample(frac=1, random_state=rng)\n",
    "print(test.shape)"
   ]
  },
  {
   "cell_type": "code",
   "execution_count": 2,
   "id": "annual-chorus",
   "metadata": {},
   "outputs": [],
   "source": [
    "# Seperate test/train data into X and y (input and output)\n",
    "X_train = train.drop('DBWT', axis=1) \n",
    "y_train = train['DBWT']\n",
    "X_test = test.drop('DBWT', axis=1)\n",
    "y_test = test['DBWT']"
   ]
  },
  {
   "cell_type": "code",
   "execution_count": 3,
   "id": "spanish-peace",
   "metadata": {},
   "outputs": [
    {
     "data": {
      "text/plain": [
       "KNeighborsRegressor(n_neighbors=2)"
      ]
     },
     "execution_count": 3,
     "metadata": {},
     "output_type": "execute_result"
    }
   ],
   "source": [
    "# TRAIN the model\n",
    "from sklearn.neighbors import KNeighborsRegressor\n",
    "neigh = KNeighborsRegressor(n_neighbors=2)\n",
    "neigh.fit(X_train, y_train)"
   ]
  },
  {
   "cell_type": "code",
   "execution_count": 4,
   "id": "potential-translation",
   "metadata": {},
   "outputs": [
    {
     "data": {
      "text/html": [
       "<div>\n",
       "<style scoped>\n",
       "    .dataframe tbody tr th:only-of-type {\n",
       "        vertical-align: middle;\n",
       "    }\n",
       "\n",
       "    .dataframe tbody tr th {\n",
       "        vertical-align: top;\n",
       "    }\n",
       "\n",
       "    .dataframe thead th {\n",
       "        text-align: right;\n",
       "    }\n",
       "</style>\n",
       "<table border=\"1\" class=\"dataframe\">\n",
       "  <thead>\n",
       "    <tr style=\"text-align: right;\">\n",
       "      <th></th>\n",
       "      <th>Actual</th>\n",
       "      <th>Predicted</th>\n",
       "    </tr>\n",
       "  </thead>\n",
       "  <tbody>\n",
       "    <tr>\n",
       "      <th>676493</th>\n",
       "      <td>2587</td>\n",
       "      <td>3676.5</td>\n",
       "    </tr>\n",
       "    <tr>\n",
       "      <th>429503</th>\n",
       "      <td>3657</td>\n",
       "      <td>2882.5</td>\n",
       "    </tr>\n",
       "    <tr>\n",
       "      <th>527938</th>\n",
       "      <td>3230</td>\n",
       "      <td>3465.0</td>\n",
       "    </tr>\n",
       "    <tr>\n",
       "      <th>231994</th>\n",
       "      <td>3660</td>\n",
       "      <td>3035.0</td>\n",
       "    </tr>\n",
       "    <tr>\n",
       "      <th>435663</th>\n",
       "      <td>2920</td>\n",
       "      <td>3344.5</td>\n",
       "    </tr>\n",
       "  </tbody>\n",
       "</table>\n",
       "</div>"
      ],
      "text/plain": [
       "        Actual  Predicted\n",
       "676493    2587     3676.5\n",
       "429503    3657     2882.5\n",
       "527938    3230     3465.0\n",
       "231994    3660     3035.0\n",
       "435663    2920     3344.5"
      ]
     },
     "execution_count": 4,
     "metadata": {},
     "output_type": "execute_result"
    }
   ],
   "source": [
    "# make predictions\n",
    "y_pred = neigh.predict(X_test)\n",
    "results = pd.DataFrame({'Actual': y_test, 'Predicted': y_pred})\n",
    "results.head()"
   ]
  },
  {
   "cell_type": "code",
   "execution_count": 5,
   "id": "intermediate-concrete",
   "metadata": {},
   "outputs": [
    {
     "name": "stdout",
     "output_type": "stream",
     "text": [
      "Mean Absolute Error: 507.6235343091672\n",
      "Mean Squared Error: 478273.6156115227\n",
      "Root Mean Squared Error: 691.5732901229794\n"
     ]
    },
    {
     "data": {
      "image/png": "[encoded data removed]",
      "text/plain": [
       "<Figure size 432x288 with 1 Axes>"
      ]
     },
     "metadata": {
      "needs_background": "light"
     },
     "output_type": "display_data"
    }
   ],
   "source": [
    "# get some metrics\n",
    "from sklearn import metrics\n",
    "print('Mean Absolute Error:', metrics.mean_absolute_error(y_test, y_pred))\n",
    "print('Mean Squared Error:', metrics.mean_squared_error(y_test, y_pred))\n",
    "print('Root Mean Squared Error:', np.sqrt(metrics.mean_squared_error(y_test, y_pred)))\n",
    "\n",
    "# plot predictions vs expected\n",
    "fig, ax = plt.subplots()\n",
    "ax.scatter(y_test, y_pred)\n",
    "ax.plot([y_test.min(), y_test.max()], [y_test.min(), y_test.max()], 'k--', lw=4)\n",
    "ax.set_xlabel('Measured')\n",
    "ax.set_ylabel('Predicted')\n",
    "plt.show()"
   ]
  },
  {
   "cell_type": "code",
   "execution_count": null,
   "id": "incorporate-rapid",
   "metadata": {},
   "outputs": [],
   "source": []
  }
 ],
 "metadata": {
  "kernelspec": {
   "display_name": "Python 3",
   "language": "python",
   "name": "python3"
  },
  "language_info": {
   "codemirror_mode": {
    "name": "ipython",
    "version": 3
   },
   "file_extension": ".py",
   "mimetype": "text/x-python",
   "name": "python",
   "nbconvert_exporter": "python",
   "pygments_lexer": "ipython3",
   "version": "3.8.2"
  }
 },
 "nbformat": 4,
 "nbformat_minor": 5
}
