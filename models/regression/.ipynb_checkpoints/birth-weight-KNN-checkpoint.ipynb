{
 "cells": [
  {
   "cell_type": "code",
   "execution_count": 6,
   "id": "continued-bumper",
   "metadata": {},
   "outputs": [
    {
     "name": "stdout",
     "output_type": "stream",
     "text": [
      "(3041227, 16)\n",
      "(760307, 16)\n"
     ]
    }
   ],
   "source": [
    "# linear: https://stackabuse.com/linear-regression-in-python-with-scikit-learn/\n",
    "# KNN: https://scikit-learn.org/stable/modules/generated/sklearn.neighbors.KNeighborsRegressor.html\n",
    "# MLP: https://scikit-learn.org/stable/modules/generated/sklearn.neural_network.MLPRegressor.html\n",
    "\n",
    "# we are predicting BIRTH WEIGHT (DBWT)\n",
    "\n",
    "# Setup and imports\n",
    "import pandas as pd\n",
    "import numpy as np\n",
    "import matplotlib.pyplot as plt\n",
    "%matplotlib inline\n",
    "\n",
    "# CROP DOWN THE DATA FOR TESTING...\n",
    "from numpy.random import RandomState\n",
    "rng = RandomState()\n",
    "\n",
    "train = pd.read_csv(\"../data/us_births_train.csv\").sample(frac=0.01, random_state=rng)\n",
    "print(train.shape)\n",
    "test = pd.read_csv(\"../data/us_births_test.csv\").sample(frac=0.01, random_state=rng)\n",
    "print(test.shape)"
   ]
  },
  {
   "cell_type": "code",
   "execution_count": 7,
   "id": "annual-chorus",
   "metadata": {},
   "outputs": [],
   "source": [
    "# Seperate test/train data into X and y (input and output)\n",
    "X_train = train.drop('DBWT', axis=1) \n",
    "y_train = train['DBWT']\n",
    "X_test = test.drop('DBWT', axis=1)\n",
    "y_test = test['DBWT']"
   ]
  },
  {
   "cell_type": "code",
   "execution_count": null,
   "id": "spanish-peace",
   "metadata": {},
   "outputs": [],
   "source": [
    "# TRAIN the model\n",
    "from sklearn.neighbors import NearestNeighbors\n",
    "neigh = NearestNeighbors(n_neighbors=2)\n",
    "neigh.fit(X_train, y_train)"
   ]
  },
  {
   "cell_type": "code",
   "execution_count": null,
   "id": "potential-translation",
   "metadata": {},
   "outputs": [],
   "source": [
    "# make predictions\n",
    "y_pred = neigh.predict(X_test)\n",
    "results = pd.DataFrame({'Actual': y_test, 'Predicted': y_pred})\n",
    "results.head()"
   ]
  },
  {
   "cell_type": "code",
   "execution_count": null,
   "id": "intermediate-concrete",
   "metadata": {},
   "outputs": [],
   "source": [
    "# get some metrics\n",
    "from sklearn import metrics\n",
    "print('Mean Absolute Error:', metrics.mean_absolute_error(y_test, y_pred))\n",
    "print('Mean Squared Error:', metrics.mean_squared_error(y_test, y_pred))\n",
    "print('Root Mean Squared Error:', np.sqrt(metrics.mean_squared_error(y_test, y_pred)))\n",
    "\n",
    "# plot predictions vs expected\n",
    "fig, ax = plt.subplots()\n",
    "ax.scatter(y_test, y_pred)\n",
    "ax.plot([y_test.min(), y_test.max()], [y_test.min(), y_test.max()], 'k--', lw=4)\n",
    "ax.set_xlabel('Measured')\n",
    "ax.set_ylabel('Predicted')\n",
    "plt.show()"
   ]
  },
  {
   "cell_type": "code",
   "execution_count": null,
   "id": "incorporate-rapid",
   "metadata": {},
   "outputs": [],
   "source": []
  }
 ],
 "metadata": {
  "kernelspec": {
   "display_name": "Python 3",
   "language": "python",
   "name": "python3"
  },
  "language_info": {
   "codemirror_mode": {
    "name": "ipython",
    "version": 3
   },
   "file_extension": ".py",
   "mimetype": "text/x-python",
   "name": "python",
   "nbconvert_exporter": "python",
   "pygments_lexer": "ipython3",
   "version": "3.8.2"
  }
 },
 "nbformat": 4,
 "nbformat_minor": 5
}
