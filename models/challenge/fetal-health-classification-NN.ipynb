{
 "cells": [
  {
   "cell_type": "code",
   "execution_count": 1,
   "id": "continued-bumper",
   "metadata": {},
   "outputs": [
    {
     "name": "stderr",
     "output_type": "stream",
     "text": [
      "Using TensorFlow backend.\n"
     ]
    },
    {
     "name": "stdout",
     "output_type": "stream",
     "text": [
      "(1701, 22)\n",
      "(425, 22)\n"
     ]
    }
   ],
   "source": [
    "# NN: https://machinelearningmastery.com/multi-class-classification-tutorial-keras-deep-learning-library/\n",
    "\n",
    "# Setup and imports\n",
    "import pandas as pd\n",
    "from keras.models import Sequential\n",
    "from keras.layers import Dense\n",
    "from keras.wrappers.scikit_learn import KerasClassifier\n",
    "from keras.utils import np_utils\n",
    "from sklearn.model_selection import cross_val_score\n",
    "from sklearn.model_selection import KFold\n",
    "from sklearn.preprocessing import LabelEncoder\n",
    "from sklearn.pipeline import Pipeline\n",
    "\n",
    "# CROP DOWN THE DATA FOR TESTING...\n",
    "from numpy.random import RandomState\n",
    "rng = RandomState()\n",
    "\n",
    "train = pd.read_csv(\"../../data/fetal_health_train.csv\").sample(frac=1, random_state=rng)\n",
    "print(train.shape)\n",
    "test = pd.read_csv(\"../../data/fetal_health_test.csv\").sample(frac=1, random_state=rng)\n",
    "print(test.shape)\n",
    "\n",
    "num_attributes = train.shape[1] - 1 # num attributes is #cols - 1 (for the result)"
   ]
  },
  {
   "cell_type": "code",
   "execution_count": 2,
   "id": "annual-chorus",
   "metadata": {},
   "outputs": [],
   "source": [
    "# Seperate test/train data into X and y (input and output)\n",
    "X_train = train.drop('fetal_health', axis=1) \n",
    "y_train = train['fetal_health']\n",
    "X_test = test.drop('fetal_health', axis=1)\n",
    "y_test = test['fetal_health']"
   ]
  },
  {
   "cell_type": "code",
   "execution_count": 3,
   "id": "talented-history",
   "metadata": {},
   "outputs": [],
   "source": [
    "# encode class values as integers\n",
    "def encode(data):  \n",
    "    encoder = LabelEncoder()\n",
    "    encoder.fit(data)\n",
    "    encoded = encoder.transform(data)\n",
    "    # convert integers to dummy variables (i.e. one hot encoded)\n",
    "    dummy = np_utils.to_categorical(encoded)\n",
    "    return dummy\n",
    "\n",
    "y_train = encode(y_train)\n",
    "y_test = encode(y_test)"
   ]
  },
  {
   "cell_type": "code",
   "execution_count": 4,
   "id": "israeli-reunion",
   "metadata": {},
   "outputs": [],
   "source": [
    "# define baseline model\n",
    "def baseline_model():\n",
    "    # create model\n",
    "    model = Sequential()\n",
    "    model.add(Dense(4, input_dim=num_attributes, activation='relu'))\n",
    "    model.add(Dense(4, activation='relu'))\n",
    "    model.add(Dense(3, activation='softmax'))\n",
    "    # Compile model\n",
    "    model.compile(loss='categorical_crossentropy', optimizer='adam', metrics=['accuracy'])\n",
    "    return model"
   ]
  },
  {
   "cell_type": "code",
   "execution_count": 5,
   "id": "latter-glossary",
   "metadata": {},
   "outputs": [],
   "source": [
    "# training the model\n",
    "model = baseline_model()\n",
    "estimator = KerasClassifier(build_fn=model, epochs=10, batch_size=5, verbose=1)"
   ]
  },
  {
   "cell_type": "code",
   "execution_count": 6,
   "id": "closing-specific",
   "metadata": {},
   "outputs": [],
   "source": [
    "# predict\n",
    "import numpy as np\n",
    "\n",
    "y_pred = model.predict(X_test)\n",
    "y_pred = np.around(y_pred) # round"
   ]
  },
  {
   "cell_type": "code",
   "execution_count": 7,
   "id": "alternative-astronomy",
   "metadata": {},
   "outputs": [
    {
     "name": "stdout",
     "output_type": "stream",
     "text": [
      "Accuracy 0.7717647058823529\n"
     ]
    }
   ],
   "source": [
    "# get some metrics\n",
    "import matplotlib.pyplot as plt\n",
    "%matplotlib inline\n",
    "from sklearn.metrics import classification_report, confusion_matrix, accuracy_score \n",
    "\n",
    "print('Accuracy ' + str(accuracy_score(y_test, y_pred)))"
   ]
  },
  {
   "cell_type": "code",
   "execution_count": null,
   "id": "standard-sperm",
   "metadata": {},
   "outputs": [],
   "source": []
  }
 ],
 "metadata": {
  "kernelspec": {
   "display_name": "Python 3",
   "language": "python",
   "name": "python3"
  },
  "language_info": {
   "codemirror_mode": {
    "name": "ipython",
    "version": 3
   },
   "file_extension": ".py",
   "mimetype": "text/x-python",
   "name": "python",
   "nbconvert_exporter": "python",
   "pygments_lexer": "ipython3",
   "version": "3.8.2"
  }
 },
 "nbformat": 4,
 "nbformat_minor": 5
}
